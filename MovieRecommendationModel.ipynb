{
  "nbformat": 4,
  "nbformat_minor": 0,
  "metadata": {
    "colab": {
      "provenance": [],
      "authorship_tag": "ABX9TyOY5AM2PCeWFc8OctDC0N1E",
      "include_colab_link": true
    },
    "kernelspec": {
      "name": "python3",
      "display_name": "Python 3"
    },
    "language_info": {
      "name": "python"
    }
  },
  "cells": [
    {
      "cell_type": "markdown",
      "metadata": {
        "id": "view-in-github",
        "colab_type": "text"
      },
      "source": [
        "<a href=\"https://colab.research.google.com/github/udaydaroch/Movie-recommendation-model/blob/main/MovieRecommendationModel.ipynb\" target=\"_parent\"><img src=\"https://colab.research.google.com/assets/colab-badge.svg\" alt=\"Open In Colab\"/></a>"
      ]
    },
    {
      "cell_type": "code",
      "source": [
        "!pip install dask pandas scikit-learn nltk faker surprise"
      ],
      "metadata": {
        "colab": {
          "base_uri": "https://localhost:8080/"
        },
        "id": "9TywO5YsrGKv",
        "outputId": "e59d8aea-0088-4ae8-9a03-d009fa495bf2"
      },
      "execution_count": null,
      "outputs": [
        {
          "output_type": "stream",
          "name": "stdout",
          "text": [
            "Requirement already satisfied: dask in /usr/local/lib/python3.10/dist-packages (2023.8.1)\n",
            "Requirement already satisfied: pandas in /usr/local/lib/python3.10/dist-packages (2.0.3)\n",
            "Requirement already satisfied: scikit-learn in /usr/local/lib/python3.10/dist-packages (1.2.2)\n",
            "Requirement already satisfied: nltk in /usr/local/lib/python3.10/dist-packages (3.8.1)\n",
            "Requirement already satisfied: faker in /usr/local/lib/python3.10/dist-packages (25.8.0)\n",
            "Collecting surprise\n",
            "  Downloading surprise-0.1-py2.py3-none-any.whl (1.8 kB)\n",
            "Requirement already satisfied: click>=8.0 in /usr/local/lib/python3.10/dist-packages (from dask) (8.1.7)\n",
            "Requirement already satisfied: cloudpickle>=1.5.0 in /usr/local/lib/python3.10/dist-packages (from dask) (2.2.1)\n",
            "Requirement already satisfied: fsspec>=2021.09.0 in /usr/local/lib/python3.10/dist-packages (from dask) (2023.6.0)\n",
            "Requirement already satisfied: packaging>=20.0 in /usr/local/lib/python3.10/dist-packages (from dask) (24.1)\n",
            "Requirement already satisfied: partd>=1.2.0 in /usr/local/lib/python3.10/dist-packages (from dask) (1.4.2)\n",
            "Requirement already satisfied: pyyaml>=5.3.1 in /usr/local/lib/python3.10/dist-packages (from dask) (6.0.1)\n",
            "Requirement already satisfied: toolz>=0.10.0 in /usr/local/lib/python3.10/dist-packages (from dask) (0.12.1)\n",
            "Requirement already satisfied: importlib-metadata>=4.13.0 in /usr/local/lib/python3.10/dist-packages (from dask) (7.1.0)\n",
            "Requirement already satisfied: python-dateutil>=2.8.2 in /usr/local/lib/python3.10/dist-packages (from pandas) (2.8.2)\n",
            "Requirement already satisfied: pytz>=2020.1 in /usr/local/lib/python3.10/dist-packages (from pandas) (2023.4)\n",
            "Requirement already satisfied: tzdata>=2022.1 in /usr/local/lib/python3.10/dist-packages (from pandas) (2024.1)\n",
            "Requirement already satisfied: numpy>=1.21.0 in /usr/local/lib/python3.10/dist-packages (from pandas) (1.25.2)\n",
            "Requirement already satisfied: scipy>=1.3.2 in /usr/local/lib/python3.10/dist-packages (from scikit-learn) (1.11.4)\n",
            "Requirement already satisfied: joblib>=1.1.1 in /usr/local/lib/python3.10/dist-packages (from scikit-learn) (1.4.2)\n",
            "Requirement already satisfied: threadpoolctl>=2.0.0 in /usr/local/lib/python3.10/dist-packages (from scikit-learn) (3.5.0)\n",
            "Requirement already satisfied: regex>=2021.8.3 in /usr/local/lib/python3.10/dist-packages (from nltk) (2024.5.15)\n",
            "Requirement already satisfied: tqdm in /usr/local/lib/python3.10/dist-packages (from nltk) (4.66.4)\n",
            "Collecting scikit-surprise (from surprise)\n",
            "  Downloading scikit_surprise-1.1.4.tar.gz (154 kB)\n",
            "\u001b[2K     \u001b[90m━━━━━━━━━━━━━━━━━━━━━━━━━━━━━━━━━━━━━━━━\u001b[0m \u001b[32m154.4/154.4 kB\u001b[0m \u001b[31m3.3 MB/s\u001b[0m eta \u001b[36m0:00:00\u001b[0m\n",
            "\u001b[?25h  Installing build dependencies ... \u001b[?25l\u001b[?25hdone\n",
            "  Getting requirements to build wheel ... \u001b[?25l\u001b[?25hdone\n",
            "  Preparing metadata (pyproject.toml) ... \u001b[?25l\u001b[?25hdone\n",
            "Requirement already satisfied: zipp>=0.5 in /usr/local/lib/python3.10/dist-packages (from importlib-metadata>=4.13.0->dask) (3.19.2)\n",
            "Requirement already satisfied: locket in /usr/local/lib/python3.10/dist-packages (from partd>=1.2.0->dask) (1.0.0)\n",
            "Requirement already satisfied: six>=1.5 in /usr/local/lib/python3.10/dist-packages (from python-dateutil>=2.8.2->pandas) (1.16.0)\n",
            "Building wheels for collected packages: scikit-surprise\n",
            "  Building wheel for scikit-surprise (pyproject.toml) ... \u001b[?25l\u001b[?25hdone\n",
            "  Created wheel for scikit-surprise: filename=scikit_surprise-1.1.4-cp310-cp310-linux_x86_64.whl size=2357243 sha256=44af6a62d71e996ccecc0a89077b508658886ff67280073e8a7acf3346c200e1\n",
            "  Stored in directory: /root/.cache/pip/wheels/4b/3f/df/6acbf0a40397d9bf3ff97f582cc22fb9ce66adde75bc71fd54\n",
            "Successfully built scikit-surprise\n",
            "Installing collected packages: scikit-surprise, surprise\n",
            "Successfully installed scikit-surprise-1.1.4 surprise-0.1\n"
          ]
        }
      ]
    },
    {
      "cell_type": "code",
      "source": [],
      "metadata": {
        "id": "UXwKt7lCMXaO"
      },
      "execution_count": null,
      "outputs": []
    },
    {
      "cell_type": "code",
      "source": [
        "import json\n",
        "import random\n",
        "from faker import Faker\n",
        "import dask.dataframe as dd\n",
        "import pandas as pd\n",
        "from surprise import Dataset, Reader, SVD, accuracy\n",
        "from surprise.model_selection import train_test_split\n",
        "from tabulate import tabulate\n",
        "import random\n",
        "\n",
        "\n",
        "fake = Faker()\n",
        "genres = [\"Action\", \"Comedy\", \"Drama\", \"Fantasy\", \"Horror\", \"Romance\", \"Sci-Fi\", \"Thriller\"]\n",
        "\n",
        "# Generate random movie metadata\n",
        "def generate_movies(num_movies):\n",
        "    movies = []\n",
        "    for i in range(num_movies):\n",
        "        movie = {\n",
        "            \"movie_id\": i,\n",
        "            \"title\": fake.sentence(nb_words=3).replace(\".\", \"\"),\n",
        "            \"genres\": random.choice(genres),\n",
        "            \"director\": fake.name(),\n",
        "            \"actors\": [fake.name() for _ in range(3)],\n",
        "            \"release_year\": random.randint(1950, 2023),\n",
        "            \"plot_summary\": fake.text(max_nb_chars=200),\n",
        "            \"duration\": random.randint(60, 180),\n",
        "            \"language\": fake.language_name(),\n",
        "            \"country\": fake.country(),\n",
        "            \"average_rating\": round(random.uniform(1, 10), 1)\n",
        "        }\n",
        "        movies.append(movie)\n",
        "    return movies\n",
        "\n",
        "# Generate random user interaction data\n",
        "def generate_ratings(num_users, num_movies):\n",
        "    ratings = []\n",
        "    for user_id in range(num_users):\n",
        "        for movie_id in random.sample(range(num_movies), random.randint(5, 20)):\n",
        "            rating = {\n",
        "                \"user_id\": random.randint(0,100),\n",
        "                \"movie_id\": movie_id,\n",
        "                \"rating\": random.randint(1, 5),\n",
        "                \"timestamp\": fake.date_time_this_decade().timestamp()\n",
        "            }\n",
        "            ratings.append(rating)\n",
        "    return ratings\n",
        "\n",
        "# Save to JSONL files\n",
        "def save_to_jsonl(data, filename):\n",
        "    with open(filename, 'w') as f:\n",
        "        for item in data:\n",
        "            f.write(json.dumps(item) + \"\\n\")\n",
        "\n",
        "num_movies = 100000\n",
        "num_users = 100\n",
        "\n",
        "movies = generate_movies(num_movies)\n",
        "ratings = generate_ratings(num_users, num_movies)\n",
        "\n",
        "save_to_jsonl(movies, \"movies.jsonl\")\n",
        "save_to_jsonl(ratings, \"ratings.jsonl\")\n",
        "\n",
        "print(\"Data generated and saved to JSONL files.\")\n",
        "\n"
      ],
      "metadata": {
        "colab": {
          "base_uri": "https://localhost:8080/"
        },
        "id": "J5j7NkE3uTy_",
        "outputId": "6270ea01-2a2e-4537-ed50-0013957654ae"
      },
      "execution_count": 55,
      "outputs": [
        {
          "output_type": "stream",
          "name": "stdout",
          "text": [
            "Data generated and saved to JSONL files.\n"
          ]
        }
      ]
    },
    {
      "cell_type": "code",
      "source": [
        "# Load data using Dask\n",
        "movies_dd = dd.read_json('movies.jsonl', lines=True)\n",
        "ratings_dd = dd.read_json('ratings.jsonl', lines=True)\n",
        "\n",
        "# Join data on movie_id\n",
        "merged_dd = dd.merge(ratings_dd, movies_dd, on='movie_id')\n",
        "\n",
        "print(\"Data loaded and joined.\")\n",
        "\n",
        "# Convert to pandas DataFrame for interactive operations\n",
        "merged_df = merged_dd.compute()\n",
        "\n",
        "print(merged_df.head())"
      ],
      "metadata": {
        "colab": {
          "base_uri": "https://localhost:8080/"
        },
        "id": "H1i7gGN06-xO",
        "outputId": "6d791794-4514-4012-d676-b8f135266e65"
      },
      "execution_count": 56,
      "outputs": [
        {
          "output_type": "stream",
          "name": "stdout",
          "text": [
            "Data loaded and joined.\n",
            "   user_id  movie_id  rating                     timestamp  \\\n",
            "0       42     92426       2 2022-08-24 11:24:16.819742976   \n",
            "1       14     24562       4 2023-11-19 07:54:13.478432000   \n",
            "2       39     93526       3 2021-07-12 16:32:36.016365056   \n",
            "3        5      4550       5 2022-09-29 00:22:59.434179072   \n",
            "4       70     79387       2 2023-09-06 00:51:09.930934016   \n",
            "\n",
            "                      title    genres           director  \\\n",
            "0  Value decision staff use    Sci-Fi       Haley Rivera   \n",
            "1          Staff production    Horror    Daniel Bean Jr.   \n",
            "2        Nearly health left    Horror  Adrienne Gonzalez   \n",
            "3         Every difficult a     Drama       Joshua Watts   \n",
            "4       Various again whole  Thriller    Theresa Sanchez   \n",
            "\n",
            "                                              actors  release_year  \\\n",
            "0        ['Brian Rojas', 'David Day', 'David Chung']          1951   \n",
            "1  ['Nicole Stein', 'William Trujillo', 'George C...          1997   \n",
            "2  ['Juan Miller', 'Victor Wilkerson', 'Christoph...          1982   \n",
            "3      ['Trevor Clark', 'John Noble', 'Maria Adams']          2017   \n",
            "4  ['Teresa Mendez', 'James Evans', 'Samantha Mar...          1969   \n",
            "\n",
            "                                        plot_summary  duration     language  \\\n",
            "0  Impact bit agent.\n",
            "Executive newspaper both sis...        75  Marshallese   \n",
            "1  Bed teach leader however. Check citizen wind l...       100    Ukrainian   \n",
            "2  Help charge miss too in. Carry check rule one....        82        Uzbek   \n",
            "3  Effort radio bad PM ago travel history. Free r...        72        Oromo   \n",
            "4  Test day just continue throughout. Analysis ca...       147         Pali   \n",
            "\n",
            "         country  average_rating  \n",
            "0  Liechtenstein             8.3  \n",
            "1     Martinique             4.2  \n",
            "2          Sudan             4.9  \n",
            "3          Palau             5.8  \n",
            "4         Kuwait             8.2  \n"
          ]
        }
      ]
    },
    {
      "cell_type": "code",
      "source": [
        "# Prepare data for Surprise library\n",
        "reader = Reader(rating_scale=(1, 5))\n",
        "ratings_pd = merged_dd[['user_id', 'movie_id', 'rating']].compute()\n",
        "data = Dataset.load_from_df(ratings_pd, reader)\n",
        "\n",
        "# Split the data into train and test sets\n",
        "trainset, testset = train_test_split(data, test_size=0.25)\n",
        "\n",
        "# Train the SVD algorithm on the trainset\n",
        "algo = SVD()\n",
        "algo.fit(trainset)\n",
        "\n",
        "# Predict ratings for the testset\n",
        "predictions = algo.test(testset)\n",
        "\n",
        "# Compute and print RMSE\n",
        "accuracy.rmse(predictions)"
      ],
      "metadata": {
        "colab": {
          "base_uri": "https://localhost:8080/"
        },
        "id": "hht_drNN6hwu",
        "outputId": "d8bf0750-199a-4895-8b3f-3a6a16223ade"
      },
      "execution_count": 57,
      "outputs": [
        {
          "output_type": "stream",
          "name": "stdout",
          "text": [
            "RMSE: 1.4177\n"
          ]
        },
        {
          "output_type": "execute_result",
          "data": {
            "text/plain": [
              "1.4176601118010126"
            ]
          },
          "metadata": {},
          "execution_count": 57
        }
      ]
    },
    {
      "cell_type": "code",
      "source": [
        "\n",
        "def display_genres():\n",
        "\n",
        "    table_data = [[i+1, genre] for i, genre in enumerate(genres)]\n",
        "\n",
        "    print(tabulate(table_data, headers=[\"#\", \"Genre\"], tablefmt=\"grid\"))\n",
        "\n",
        "\n",
        "def display_user_profile():\n",
        "    table_data = []\n",
        "    headers = [\"Preferred Genre\", \"Liked Movies\"]\n",
        "\n",
        "    if user_profile[\"preferred_genre\"]:\n",
        "        preferred_genre = user_profile[\"preferred_genre\"]\n",
        "    else:\n",
        "        preferred_genre = \"None\"\n",
        "\n",
        "    liked_movies = []\n",
        "    if user_profile[\"liked_movies\"]:\n",
        "        for genre, movies in user_profile[\"liked_movies\"].items():\n",
        "            liked_movies.append(f\"{genre}: {', '.join(movies)}\")\n",
        "    else:\n",
        "        liked_movies.append(\"None\")\n",
        "\n",
        "    table_data.append([preferred_genre, \"\\n\".join(liked_movies)])\n",
        "\n",
        "    print(tabulate(table_data, headers=headers, tablefmt=\"grid\"))\n"
      ],
      "metadata": {
        "id": "fj0eIbW4NKuG"
      },
      "execution_count": 58,
      "outputs": []
    },
    {
      "cell_type": "code",
      "source": [
        "\n",
        "def rate_movie(chosen_movie):\n",
        "    rating = None\n",
        "    while rating not in range(1, 11):\n",
        "        try:\n",
        "            rating = int(input(f\"Rate the movie '{chosen_movie['title']}' (1-10): \"))\n",
        "        except ValueError:\n",
        "            print(\"Invalid input. Please enter a number between 1 and 10.\")\n",
        "\n",
        "    preferred_genre = user_profile[\"preferred_genre\"]\n",
        "    if rating >= 3:\n",
        "        if preferred_genre not in user_profile[\"liked_movies\"]:\n",
        "            user_profile[\"liked_movies\"][preferred_genre] = []\n",
        "        user_profile[\"liked_movies\"][preferred_genre].append(chosen_movie['title'])\n",
        "    else:\n",
        "        user_profile[\"disliked_movies\"].append(chosen_movie['movie_id'])\n",
        "\n",
        "    print(\"Your preferences have been updated.\")\n",
        "    display_user_profile()\n",
        "    # Update the ratings DataFrame and retrain the model\n",
        "    new_rating = pd.DataFrame({'userId': [user_id], 'movie_id': [chosen_movie['movieId']], 'rating': [rating]})\n",
        "    global ratings\n",
        "    ratings = pd.concat([ratings, new_rating], ignore_index=True)\n",
        "\n",
        "    data = Dataset.load_from_df(ratings[['userId', 'movieId', 'rating']], reader)\n",
        "    trainset = data.build_full_trainset()\n",
        "    global algo\n",
        "    algo = SVD()\n",
        "    algo.fit(trainset)\n",
        "    print(\"Model updated with new rating\")\n",
        "\n",
        "\n",
        "def choose_movie_to_watch(movies):\n",
        "    table_data = []\n",
        "    for i, movie in enumerate(movies):\n",
        "        table_data.append([i+1, movie['title'], movie['release_year'], movie['average_rating'], movie['plot_summary'], movie['language'], movie['country']])\n",
        "\n",
        "    print(\"Here are some movies you might like:\")\n",
        "    print(tabulate(table_data, headers=[\"#\", \"Title\", \"Release Year\", \"Average Rating\", \"Plot Summary\", \"Language\", \"Country\"], tablefmt=\"grid\"))\n",
        "\n",
        "    movie_choice = None\n",
        "    while movie_choice not in range(1, len(movies) + 1):\n",
        "        try:\n",
        "            movie_choice = int(input(f\"Choose a movie to watch (1-{len(movies)}): \"))\n",
        "        except ValueError:\n",
        "            print(f\"Invalid input. Please enter a number between 1 and {len(movies)}.\")\n",
        "\n",
        "    chosen_movie = movies[movie_choice - 1]\n",
        "    print(f\"You chose to watch: {chosen_movie['title']}\")\n",
        "    return chosen_movie"
      ],
      "metadata": {
        "id": "MzZBrjMM60Zt"
      },
      "execution_count": 59,
      "outputs": []
    },
    {
      "cell_type": "code",
      "source": [
        "# User profile\n",
        "user_profile = {\n",
        "    \"preferred_genre\": None,\n",
        "    \"liked_movies\": {},\n",
        "    \"disliked_movies\": []\n",
        "}\n",
        "\n",
        "def get_recommendations(user_id, preferred_genre=None, num_recommendations=5):\n",
        "    user_ratings = []\n",
        "    if preferred_genre:\n",
        "        movie_ids = movies_dd[movies_dd['genres'] == preferred_genre]['movie_id'].compute().tolist()\n",
        "    else:\n",
        "        movie_ids = movies_dd['movie_id'].compute().tolist()\n",
        "\n",
        "    # Exclude disliked movies and liked movies\n",
        "    excluded_movies = set(user_profile[\"disliked_movies\"])\n",
        "    for liked_movies in user_profile[\"liked_movies\"].values():\n",
        "        excluded_movies.update(movies_dd[movies_dd['title'].isin(liked_movies)]['movie_id'].compute().tolist())\n",
        "    movie_ids = [iid for iid in movie_ids if iid not in excluded_movies]\n",
        "\n",
        "    for iid in movie_ids:\n",
        "        pred = algo.predict(user_id, iid)\n",
        "        user_ratings.append((iid, pred.est))\n",
        "\n",
        "    # Sort by predicted rating in descending order\n",
        "    user_ratings.sort(key=lambda x: x[1], reverse=True)\n",
        "\n",
        "    # Get top N recommendations\n",
        "    recommended_ids = [iid for iid, _ in user_ratings[:num_recommendations]]\n",
        "    recommended_movies = movies_dd[movies_dd['movie_id'].isin(recommended_ids)].compute()\n",
        "\n",
        "    # Convert to list of dictionaries\n",
        "    recommendations = []\n",
        "    for _, movie in recommended_movies.iterrows():\n",
        "        recommendations.append({\n",
        "            'movie_id': movie['movie_id'],\n",
        "            'title': movie['title'],\n",
        "            'release_year': movie['release_year'],\n",
        "            'average_rating': movie['average_rating'],\n",
        "            'director': movie['director'],\n",
        "            'actors': movie['actors'],\n",
        "            'plot_summary': movie['plot_summary'],\n",
        "            'language': movie['language'],\n",
        "            'country': movie['country']\n",
        "        })\n",
        "    return recommendations"
      ],
      "metadata": {
        "id": "n8w143U0NiXB"
      },
      "execution_count": 60,
      "outputs": []
    },
    {
      "cell_type": "code",
      "source": [
        "\n",
        "def recommend_movies():\n",
        "    global user_profile\n",
        "    current_recommendations = None\n",
        "\n",
        "    if user_profile[\"preferred_genre\"] is None:\n",
        "        print(\"Available genres:\")\n",
        "        display_genres()\n",
        "        user_profile[\"preferred_genre\"] = input(\"Enter your preferred genre: \")\n",
        "\n",
        "    preferred_genre = user_profile[\"preferred_genre\"]\n",
        "    genre_movies = movies_dd[movies_dd['genres'] == preferred_genre].compute()\n",
        "    if genre_movies.empty:\n",
        "        print(\"No movies found in this genre.\")\n",
        "        return\n",
        "\n",
        "    while True:\n",
        "        if current_recommendations is None:\n",
        "            if preferred_genre in user_profile[\"liked_movies\"] and len(user_profile[\"liked_movies\"][preferred_genre]) > 1:\n",
        "                print(f\"Based on your interest in {preferred_genre} movies like {user_profile['liked_movies'][preferred_genre]}, we recommend:\")\n",
        "                current_recommendations = get_recommendations(user_id, preferred_genre)\n",
        "                if not current_recommendations:\n",
        "                    print(\"No recommendations found.\")\n",
        "                    break\n",
        "            else:\n",
        "                current_recommendations = genre_movies.sample(3).to_dict(orient='records')\n",
        "\n",
        "        chosen_movie = choose_movie_to_watch(current_recommendations)\n",
        "        rate_movie(chosen_movie)\n",
        "\n",
        "        # Remove the chosen movie from the current recommendations\n",
        "        current_recommendations = [movie for movie in current_recommendations if movie['movie_id'] != chosen_movie['movie_id']]\n",
        "\n",
        "        if not current_recommendations or input(\"Do you want to choose another movie from the current recommendations? (yes/no): \").lower() != \"yes\":\n",
        "            break\n",
        "\n",
        "    if input(\"Do you want more recommendations? (yes/no): \").lower() == \"yes\":\n",
        "        if input(\"Do you want to change genre? (yes/no): \").lower() == \"yes\":\n",
        "            print(\"Available genres:\")\n",
        "            display_genres()\n",
        "            user_profile[\"preferred_genre\"] = input(\"Enter your new preferred genre: \")\n",
        "        recommend_movies()\n",
        "\n",
        "recommend_movies()\n"
      ],
      "metadata": {
        "colab": {
          "base_uri": "https://localhost:8080/",
          "height": 1000
        },
        "id": "ZKSN3vFKNXcp",
        "outputId": "208b1fbf-c73a-400d-8076-dce16ab5c174"
      },
      "execution_count": 61,
      "outputs": [
        {
          "output_type": "stream",
          "name": "stdout",
          "text": [
            "Available genres:\n",
            "+-----+----------+\n",
            "|   # | Genre    |\n",
            "+=====+==========+\n",
            "|   1 | Action   |\n",
            "+-----+----------+\n",
            "|   2 | Comedy   |\n",
            "+-----+----------+\n",
            "|   3 | Drama    |\n",
            "+-----+----------+\n",
            "|   4 | Fantasy  |\n",
            "+-----+----------+\n",
            "|   5 | Horror   |\n",
            "+-----+----------+\n",
            "|   6 | Romance  |\n",
            "+-----+----------+\n",
            "|   7 | Sci-Fi   |\n",
            "+-----+----------+\n",
            "|   8 | Thriller |\n",
            "+-----+----------+\n",
            "Enter your preferred genre: Action\n",
            "Here are some movies you might like:\n",
            "+-----+-------------------+----------------+------------------+--------------------------------------------------------------------------------------------------------------+------------+-----------+\n",
            "|   # | Title             |   Release Year |   Average Rating | Plot Summary                                                                                                 | Language   | Country   |\n",
            "+=====+===================+================+==================+==============================================================================================================+============+===========+\n",
            "|   1 | Face his          |           1992 |              2   | Decide fly cover if indicate event itself player.                                                            | Bulgarian  | France    |\n",
            "|     |                   |                |                  | Else several high and how. Realize three medical he whole make. Push only there worker together soon result. |            |           |\n",
            "+-----+-------------------+----------------+------------------+--------------------------------------------------------------------------------------------------------------+------------+-----------+\n",
            "|   2 | Image world movie |           1990 |              1.8 | Space director consumer Congress factor.                                                                     | Yoruba     | Kuwait    |\n",
            "|     |                   |                |                  | Myself though own tax apply. Behavior once blood that control statement career.                              |            |           |\n",
            "+-----+-------------------+----------------+------------------+--------------------------------------------------------------------------------------------------------------+------------+-----------+\n",
            "|   3 | Boy too           |           1963 |              5.2 | Teach heart left against little pretty star. Beat Mr treatment able of unit.                                 | Kazakh     | Poland    |\n",
            "|     |                   |                |                  | Hot tree approach study window theory. Think also positive.                                                  |            |           |\n",
            "+-----+-------------------+----------------+------------------+--------------------------------------------------------------------------------------------------------------+------------+-----------+\n",
            "Choose a movie to watch (1-3): 3\n",
            "You chose to watch: Boy too\n",
            "Rate the movie 'Boy too' (1-10): 10\n",
            "Your preferences have been updated.\n",
            "+-------------------+-----------------+\n",
            "| Preferred Genre   | Liked Movies    |\n",
            "+===================+=================+\n",
            "| Action            | Action: Boy too |\n",
            "+-------------------+-----------------+\n"
          ]
        },
        {
          "output_type": "error",
          "ename": "KeyError",
          "evalue": "'movieId'",
          "traceback": [
            "\u001b[0;31m---------------------------------------------------------------------------\u001b[0m",
            "\u001b[0;31mKeyError\u001b[0m                                  Traceback (most recent call last)",
            "\u001b[0;32m<ipython-input-61-b9da48b0a414>\u001b[0m in \u001b[0;36m<cell line: 43>\u001b[0;34m()\u001b[0m\n\u001b[1;32m     41\u001b[0m         \u001b[0mrecommend_movies\u001b[0m\u001b[0;34m(\u001b[0m\u001b[0;34m)\u001b[0m\u001b[0;34m\u001b[0m\u001b[0;34m\u001b[0m\u001b[0m\n\u001b[1;32m     42\u001b[0m \u001b[0;34m\u001b[0m\u001b[0m\n\u001b[0;32m---> 43\u001b[0;31m \u001b[0mrecommend_movies\u001b[0m\u001b[0;34m(\u001b[0m\u001b[0;34m)\u001b[0m\u001b[0;34m\u001b[0m\u001b[0;34m\u001b[0m\u001b[0m\n\u001b[0m",
            "\u001b[0;32m<ipython-input-61-b9da48b0a414>\u001b[0m in \u001b[0;36mrecommend_movies\u001b[0;34m()\u001b[0m\n\u001b[1;32m     26\u001b[0m \u001b[0;34m\u001b[0m\u001b[0m\n\u001b[1;32m     27\u001b[0m         \u001b[0mchosen_movie\u001b[0m \u001b[0;34m=\u001b[0m \u001b[0mchoose_movie_to_watch\u001b[0m\u001b[0;34m(\u001b[0m\u001b[0mcurrent_recommendations\u001b[0m\u001b[0;34m)\u001b[0m\u001b[0;34m\u001b[0m\u001b[0;34m\u001b[0m\u001b[0m\n\u001b[0;32m---> 28\u001b[0;31m         \u001b[0mrate_movie\u001b[0m\u001b[0;34m(\u001b[0m\u001b[0mchosen_movie\u001b[0m\u001b[0;34m)\u001b[0m\u001b[0;34m\u001b[0m\u001b[0;34m\u001b[0m\u001b[0m\n\u001b[0m\u001b[1;32m     29\u001b[0m \u001b[0;34m\u001b[0m\u001b[0m\n\u001b[1;32m     30\u001b[0m         \u001b[0;31m# Remove the chosen movie from the current recommendations\u001b[0m\u001b[0;34m\u001b[0m\u001b[0;34m\u001b[0m\u001b[0m\n",
            "\u001b[0;32m<ipython-input-59-eef5a3e46c67>\u001b[0m in \u001b[0;36mrate_movie\u001b[0;34m(chosen_movie)\u001b[0m\n\u001b[1;32m     18\u001b[0m     \u001b[0mdisplay_user_profile\u001b[0m\u001b[0;34m(\u001b[0m\u001b[0;34m)\u001b[0m\u001b[0;34m\u001b[0m\u001b[0;34m\u001b[0m\u001b[0m\n\u001b[1;32m     19\u001b[0m     \u001b[0;31m# Update the ratings DataFrame and retrain the model\u001b[0m\u001b[0;34m\u001b[0m\u001b[0;34m\u001b[0m\u001b[0m\n\u001b[0;32m---> 20\u001b[0;31m     \u001b[0mnew_rating\u001b[0m \u001b[0;34m=\u001b[0m \u001b[0mpd\u001b[0m\u001b[0;34m.\u001b[0m\u001b[0mDataFrame\u001b[0m\u001b[0;34m(\u001b[0m\u001b[0;34m{\u001b[0m\u001b[0;34m'userId'\u001b[0m\u001b[0;34m:\u001b[0m \u001b[0;34m[\u001b[0m\u001b[0muser_id\u001b[0m\u001b[0;34m]\u001b[0m\u001b[0;34m,\u001b[0m \u001b[0;34m'movieId'\u001b[0m\u001b[0;34m:\u001b[0m \u001b[0;34m[\u001b[0m\u001b[0mchosen_movie\u001b[0m\u001b[0;34m[\u001b[0m\u001b[0;34m'movieId'\u001b[0m\u001b[0;34m]\u001b[0m\u001b[0;34m]\u001b[0m\u001b[0;34m,\u001b[0m \u001b[0;34m'rating'\u001b[0m\u001b[0;34m:\u001b[0m \u001b[0;34m[\u001b[0m\u001b[0mrating\u001b[0m\u001b[0;34m]\u001b[0m\u001b[0;34m}\u001b[0m\u001b[0;34m)\u001b[0m\u001b[0;34m\u001b[0m\u001b[0;34m\u001b[0m\u001b[0m\n\u001b[0m\u001b[1;32m     21\u001b[0m     \u001b[0;32mglobal\u001b[0m \u001b[0mratings\u001b[0m\u001b[0;34m\u001b[0m\u001b[0;34m\u001b[0m\u001b[0m\n\u001b[1;32m     22\u001b[0m     \u001b[0mratings\u001b[0m \u001b[0;34m=\u001b[0m \u001b[0mpd\u001b[0m\u001b[0;34m.\u001b[0m\u001b[0mconcat\u001b[0m\u001b[0;34m(\u001b[0m\u001b[0;34m[\u001b[0m\u001b[0mratings\u001b[0m\u001b[0;34m,\u001b[0m \u001b[0mnew_rating\u001b[0m\u001b[0;34m]\u001b[0m\u001b[0;34m,\u001b[0m \u001b[0mignore_index\u001b[0m\u001b[0;34m=\u001b[0m\u001b[0;32mTrue\u001b[0m\u001b[0;34m)\u001b[0m\u001b[0;34m\u001b[0m\u001b[0;34m\u001b[0m\u001b[0m\n",
            "\u001b[0;31mKeyError\u001b[0m: 'movieId'"
          ]
        }
      ]
    },
    {
      "cell_type": "markdown",
      "source": [],
      "metadata": {
        "id": "W6A3QBv7uZj1"
      }
    }
  ]
}