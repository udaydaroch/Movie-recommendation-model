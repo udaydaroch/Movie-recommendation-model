{
  "nbformat": 4,
  "nbformat_minor": 0,
  "metadata": {
    "colab": {
      "provenance": [],
      "authorship_tag": "ABX9TyP5Z5WG+gQO3pVTWwcqxDK/",
      "include_colab_link": true
    },
    "kernelspec": {
      "name": "python3",
      "display_name": "Python 3"
    },
    "language_info": {
      "name": "python"
    }
  },
  "cells": [
    {
      "cell_type": "markdown",
      "metadata": {
        "id": "view-in-github",
        "colab_type": "text"
      },
      "source": [
        "<a href=\"https://colab.research.google.com/github/udaydaroch/Movie-recommendation-model/blob/main/MovieRecommendationModel.ipynb\" target=\"_parent\"><img src=\"https://colab.research.google.com/assets/colab-badge.svg\" alt=\"Open In Colab\"/></a>"
      ]
    },
    {
      "cell_type": "code",
      "source": [
        "!pip install dask pandas scikit-learn nltk faker surprise"
      ],
      "metadata": {
        "colab": {
          "base_uri": "https://localhost:8080/"
        },
        "id": "9TywO5YsrGKv",
        "outputId": "e59d8aea-0088-4ae8-9a03-d009fa495bf2"
      },
      "execution_count": null,
      "outputs": [
        {
          "output_type": "stream",
          "name": "stdout",
          "text": [
            "Requirement already satisfied: dask in /usr/local/lib/python3.10/dist-packages (2023.8.1)\n",
            "Requirement already satisfied: pandas in /usr/local/lib/python3.10/dist-packages (2.0.3)\n",
            "Requirement already satisfied: scikit-learn in /usr/local/lib/python3.10/dist-packages (1.2.2)\n",
            "Requirement already satisfied: nltk in /usr/local/lib/python3.10/dist-packages (3.8.1)\n",
            "Requirement already satisfied: faker in /usr/local/lib/python3.10/dist-packages (25.8.0)\n",
            "Collecting surprise\n",
            "  Downloading surprise-0.1-py2.py3-none-any.whl (1.8 kB)\n",
            "Requirement already satisfied: click>=8.0 in /usr/local/lib/python3.10/dist-packages (from dask) (8.1.7)\n",
            "Requirement already satisfied: cloudpickle>=1.5.0 in /usr/local/lib/python3.10/dist-packages (from dask) (2.2.1)\n",
            "Requirement already satisfied: fsspec>=2021.09.0 in /usr/local/lib/python3.10/dist-packages (from dask) (2023.6.0)\n",
            "Requirement already satisfied: packaging>=20.0 in /usr/local/lib/python3.10/dist-packages (from dask) (24.1)\n",
            "Requirement already satisfied: partd>=1.2.0 in /usr/local/lib/python3.10/dist-packages (from dask) (1.4.2)\n",
            "Requirement already satisfied: pyyaml>=5.3.1 in /usr/local/lib/python3.10/dist-packages (from dask) (6.0.1)\n",
            "Requirement already satisfied: toolz>=0.10.0 in /usr/local/lib/python3.10/dist-packages (from dask) (0.12.1)\n",
            "Requirement already satisfied: importlib-metadata>=4.13.0 in /usr/local/lib/python3.10/dist-packages (from dask) (7.1.0)\n",
            "Requirement already satisfied: python-dateutil>=2.8.2 in /usr/local/lib/python3.10/dist-packages (from pandas) (2.8.2)\n",
            "Requirement already satisfied: pytz>=2020.1 in /usr/local/lib/python3.10/dist-packages (from pandas) (2023.4)\n",
            "Requirement already satisfied: tzdata>=2022.1 in /usr/local/lib/python3.10/dist-packages (from pandas) (2024.1)\n",
            "Requirement already satisfied: numpy>=1.21.0 in /usr/local/lib/python3.10/dist-packages (from pandas) (1.25.2)\n",
            "Requirement already satisfied: scipy>=1.3.2 in /usr/local/lib/python3.10/dist-packages (from scikit-learn) (1.11.4)\n",
            "Requirement already satisfied: joblib>=1.1.1 in /usr/local/lib/python3.10/dist-packages (from scikit-learn) (1.4.2)\n",
            "Requirement already satisfied: threadpoolctl>=2.0.0 in /usr/local/lib/python3.10/dist-packages (from scikit-learn) (3.5.0)\n",
            "Requirement already satisfied: regex>=2021.8.3 in /usr/local/lib/python3.10/dist-packages (from nltk) (2024.5.15)\n",
            "Requirement already satisfied: tqdm in /usr/local/lib/python3.10/dist-packages (from nltk) (4.66.4)\n",
            "Collecting scikit-surprise (from surprise)\n",
            "  Downloading scikit_surprise-1.1.4.tar.gz (154 kB)\n",
            "\u001b[2K     \u001b[90m━━━━━━━━━━━━━━━━━━━━━━━━━━━━━━━━━━━━━━━━\u001b[0m \u001b[32m154.4/154.4 kB\u001b[0m \u001b[31m3.3 MB/s\u001b[0m eta \u001b[36m0:00:00\u001b[0m\n",
            "\u001b[?25h  Installing build dependencies ... \u001b[?25l\u001b[?25hdone\n",
            "  Getting requirements to build wheel ... \u001b[?25l\u001b[?25hdone\n",
            "  Preparing metadata (pyproject.toml) ... \u001b[?25l\u001b[?25hdone\n",
            "Requirement already satisfied: zipp>=0.5 in /usr/local/lib/python3.10/dist-packages (from importlib-metadata>=4.13.0->dask) (3.19.2)\n",
            "Requirement already satisfied: locket in /usr/local/lib/python3.10/dist-packages (from partd>=1.2.0->dask) (1.0.0)\n",
            "Requirement already satisfied: six>=1.5 in /usr/local/lib/python3.10/dist-packages (from python-dateutil>=2.8.2->pandas) (1.16.0)\n",
            "Building wheels for collected packages: scikit-surprise\n",
            "  Building wheel for scikit-surprise (pyproject.toml) ... \u001b[?25l\u001b[?25hdone\n",
            "  Created wheel for scikit-surprise: filename=scikit_surprise-1.1.4-cp310-cp310-linux_x86_64.whl size=2357243 sha256=44af6a62d71e996ccecc0a89077b508658886ff67280073e8a7acf3346c200e1\n",
            "  Stored in directory: /root/.cache/pip/wheels/4b/3f/df/6acbf0a40397d9bf3ff97f582cc22fb9ce66adde75bc71fd54\n",
            "Successfully built scikit-surprise\n",
            "Installing collected packages: scikit-surprise, surprise\n",
            "Successfully installed scikit-surprise-1.1.4 surprise-0.1\n"
          ]
        }
      ]
    },
    {
      "cell_type": "code",
      "source": [],
      "metadata": {
        "id": "UXwKt7lCMXaO"
      },
      "execution_count": null,
      "outputs": []
    },
    {
      "cell_type": "code",
      "source": [
        "import json\n",
        "import random\n",
        "from faker import Faker\n",
        "import dask.dataframe as dd\n",
        "import pandas as pd\n",
        "from surprise import Dataset, Reader, SVD, accuracy\n",
        "from surprise.model_selection import train_test_split\n",
        "from tabulate import tabulate\n",
        "import random\n",
        "\n",
        "\n",
        "fake = Faker()\n",
        "genres = [\"Action\", \"Comedy\", \"Drama\", \"Fantasy\", \"Horror\", \"Romance\", \"Sci-Fi\", \"Thriller\"]\n",
        "\n",
        "# Generate random movie metadata\n",
        "def generate_movies(num_movies):\n",
        "    movies = []\n",
        "    for i in range(num_movies):\n",
        "        movie = {\n",
        "            \"movie_id\": i,\n",
        "            \"title\": fake.sentence(nb_words=3).replace(\".\", \"\"),\n",
        "            \"genres\": random.choice(genres),\n",
        "            \"director\": fake.name(),\n",
        "            \"actors\": [fake.name() for _ in range(3)],\n",
        "            \"release_year\": random.randint(1950, 2023),\n",
        "            \"plot_summary\": fake.text(max_nb_chars=200),\n",
        "            \"duration\": random.randint(60, 180),\n",
        "            \"language\": fake.language_name(),\n",
        "            \"country\": fake.country(),\n",
        "            \"average_rating\": round(random.uniform(1, 10), 1)\n",
        "        }\n",
        "        movies.append(movie)\n",
        "    return movies\n",
        "\n",
        "# Generate random user interaction data\n",
        "def generate_ratings(num_users, num_movies):\n",
        "    ratings = []\n",
        "    for user_id in range(num_users):\n",
        "        for movie_id in random.sample(range(num_movies), random.randint(5, 20)):\n",
        "            rating = {\n",
        "                \"user_id\": user_id,\n",
        "                \"movie_id\": movie_id,\n",
        "                \"rating\": random.randint(1, 5),\n",
        "                \"timestamp\": fake.date_time_this_decade().timestamp()\n",
        "            }\n",
        "            ratings.append(rating)\n",
        "    return ratings\n",
        "\n",
        "# Save to JSONL files\n",
        "def save_to_jsonl(data, filename):\n",
        "    with open(filename, 'w') as f:\n",
        "        for item in data:\n",
        "            f.write(json.dumps(item) + \"\\n\")\n",
        "\n",
        "num_movies = 100000\n",
        "num_users = 100\n",
        "\n",
        "movies = generate_movies(num_movies)\n",
        "ratings = generate_ratings(num_users, num_movies)\n",
        "\n",
        "save_to_jsonl(movies, \"movies.jsonl\")\n",
        "save_to_jsonl(ratings, \"ratings.jsonl\")\n",
        "\n",
        "print(\"Data generated and saved to JSONL files.\")\n",
        "\n"
      ],
      "metadata": {
        "colab": {
          "base_uri": "https://localhost:8080/"
        },
        "id": "J5j7NkE3uTy_",
        "outputId": "ad8f414a-bc85-470b-e4e6-3a1c917d1764"
      },
      "execution_count": 70,
      "outputs": [
        {
          "output_type": "stream",
          "name": "stdout",
          "text": [
            "Data generated and saved to JSONL files.\n"
          ]
        }
      ]
    },
    {
      "cell_type": "code",
      "source": [
        "# Load data using Dask\n",
        "movies_dd = dd.read_json('movies.jsonl', lines=True)\n",
        "ratings_dd = dd.read_json('ratings.jsonl', lines=True)\n",
        "\n",
        "# Join data on movie_id\n",
        "merged_dd = dd.merge(ratings_dd, movies_dd, on='movie_id')\n",
        "\n",
        "print(\"Data loaded and joined.\")\n",
        "\n",
        "# Convert to pandas DataFrame for interactive operations\n",
        "merged_df = merged_dd.compute()\n",
        "\n",
        "print(merged_df.head())"
      ],
      "metadata": {
        "colab": {
          "base_uri": "https://localhost:8080/"
        },
        "id": "H1i7gGN06-xO",
        "outputId": "fd2f9024-56ea-4574-e7b0-4d88724b8f9c"
      },
      "execution_count": 90,
      "outputs": [
        {
          "output_type": "stream",
          "name": "stdout",
          "text": [
            "Data loaded and joined.\n",
            "   user_id  movie_id  rating                     timestamp  \\\n",
            "0        0     32686       5 2024-01-30 09:09:28.829926912   \n",
            "1        0     48233       3 2023-07-29 21:24:51.580150016   \n",
            "2        0     34357       2 2023-05-30 15:45:53.009967104   \n",
            "3        0     50238       4 2021-12-20 22:21:02.463234816   \n",
            "4        0     86894       3 2021-03-31 00:32:02.884226048   \n",
            "\n",
            "                      title  genres            director  \\\n",
            "0  Unit deal today position  Sci-Fi      Justin Benitez   \n",
            "1       Baby start training  Horror        David Wagner   \n",
            "2          Wonder main real  Comedy      Teresa Garrett   \n",
            "3         Fund culture sign  Sci-Fi  Veronica Schroeder   \n",
            "4                   Ok help  Sci-Fi        Michael Gray   \n",
            "\n",
            "                                              actors  release_year  \\\n",
            "0  ['Melinda Ferguson', 'Sarah Newton', 'Stephani...          2018   \n",
            "1  ['Raymond Taylor', 'Donna Johnson', 'Peter Mal...          1980   \n",
            "2  ['Catherine Webster', 'Seth Martinez', 'Willia...          1952   \n",
            "3  ['Charles Donovan', 'Alexandra Dixon', 'Michel...          2019   \n",
            "4  ['Shane Smith', 'Erika Parker', 'Bradley Herre...          1965   \n",
            "\n",
            "                                        plot_summary  duration  language  \\\n",
            "0  Officer myself exist half audience receive add...       164  Malagasy   \n",
            "1  Great begin past. Someone hear these wish simp...        71  Kuanyama   \n",
            "2  Eat likely not weight only can foot. Fast owne...       108      Thai   \n",
            "3  Like usually detail only life common. Policy n...       151   Finnish   \n",
            "4  President plant unit left quite safe speech. S...       112    Navajo   \n",
            "\n",
            "      country  average_rating  \n",
            "0  Cape Verde             7.5  \n",
            "1    Malaysia             2.1  \n",
            "2       Tonga             9.0  \n",
            "3    Tanzania             9.3  \n",
            "4      Brazil             9.8  \n"
          ]
        }
      ]
    },
    {
      "cell_type": "code",
      "source": [
        "# Prepare data for Surprise library\n",
        "reader = Reader(rating_scale=(1, 10))\n",
        "ratings_pd = merged_dd[['user_id', 'movie_id', 'rating']].compute()\n",
        "data = Dataset.load_from_df(ratings_pd, reader)\n",
        "\n",
        "# Split the data into train and test sets\n",
        "trainset, testset = train_test_split(data, test_size=0.25)\n",
        "\n",
        "# Train the SVD algorithm on the trainset\n",
        "algo = SVD()\n",
        "algo.fit(trainset)\n",
        "\n",
        "# Predict ratings for the testset\n",
        "predictions = algo.test(testset)\n",
        "\n",
        "# Compute and print RMSE\n",
        "accuracy.rmse(predictions)"
      ],
      "metadata": {
        "colab": {
          "base_uri": "https://localhost:8080/"
        },
        "id": "hht_drNN6hwu",
        "outputId": "8eaaf843-c198-40cb-eff3-5f79c39cf886"
      },
      "execution_count": 92,
      "outputs": [
        {
          "output_type": "stream",
          "name": "stdout",
          "text": [
            "RMSE: 1.3644\n"
          ]
        },
        {
          "output_type": "execute_result",
          "data": {
            "text/plain": [
              "1.3644290864771427"
            ]
          },
          "metadata": {},
          "execution_count": 92
        }
      ]
    },
    {
      "cell_type": "code",
      "source": [
        "\n",
        "def display_genres():\n",
        "\n",
        "    table_data = [[i+1, genre] for i, genre in enumerate(genres)]\n",
        "\n",
        "    print(tabulate(table_data, headers=[\"#\", \"Genre\"], tablefmt=\"grid\"))\n",
        "\n",
        "\n",
        "def display_user_profile():\n",
        "    table_data = []\n",
        "    headers = [\"Preferred Genre\", \"Liked Movies\"]\n",
        "\n",
        "    if user_profile[\"preferred_genre\"]:\n",
        "        preferred_genre = user_profile[\"preferred_genre\"]\n",
        "    else:\n",
        "        preferred_genre = \"None\"\n",
        "\n",
        "    liked_movies = []\n",
        "    if user_profile[\"liked_movies\"]:\n",
        "        for genre, movies in user_profile[\"liked_movies\"].items():\n",
        "            liked_movies.append(f\"{genre}: {', '.join(movies)}\")\n",
        "    else:\n",
        "        liked_movies.append(\"None\")\n",
        "\n",
        "    table_data.append([preferred_genre, \"\\n\".join(liked_movies)])\n",
        "\n",
        "    print(tabulate(table_data, headers=headers, tablefmt=\"grid\"))\n"
      ],
      "metadata": {
        "id": "fj0eIbW4NKuG"
      },
      "execution_count": 93,
      "outputs": []
    },
    {
      "cell_type": "code",
      "source": [
        "def rate_movie(chosen_movie):\n",
        "    global ratings, algo\n",
        "    rating = None\n",
        "    while rating not in range(1, 11):\n",
        "        try:\n",
        "            rating = int(input(f\"Rate the movie '{chosen_movie['title']}' (1-10): \"))\n",
        "        except ValueError:\n",
        "            print(\"Invalid input. Please enter a number between 1 and 10.\")\n",
        "\n",
        "    preferred_genre = user_profile[\"preferred_genre\"]\n",
        "    if rating >= 3:\n",
        "        if preferred_genre not in user_profile[\"liked_movies\"]:\n",
        "            user_profile[\"liked_movies\"][preferred_genre] = []\n",
        "        user_profile[\"liked_movies\"][preferred_genre].append(chosen_movie['title'])\n",
        "    else:\n",
        "        user_profile[\"disliked_movies\"].append(chosen_movie['movie_id'])\n",
        "\n",
        "    print(\"Your preferences have been updated.\")\n",
        "    display_user_profile()\n",
        "\n",
        "    new_rating = pd.DataFrame([[0, chosen_movie['movie_id'], rating]], columns=['user_id', 'movie_id', 'rating'])\n",
        "    if isinstance(ratings, pd.DataFrame):\n",
        "        ratings = pd.concat([ratings, new_rating], ignore_index=True)\n",
        "    else:\n",
        "        ratings = pd.concat([pd.DataFrame(ratings), new_rating], ignore_index=True)\n",
        "\n",
        "    # Retrain the algorithm\n",
        "    reader = Reader(rating_scale=(1, 10))\n",
        "    data = Dataset.load_from_df(ratings[['user_id', 'movie_id', 'rating']], reader)\n",
        "    trainset = data.build_full_trainset()\n",
        "    algo.fit(trainset)\n",
        "\n",
        "    print(\"Model retrained successfully.\")\n",
        "\n",
        "def choose_movie_to_watch(movies):\n",
        "    table_data = []\n",
        "    for i, movie in enumerate(movies):\n",
        "        table_data.append([i+1, movie['title'], movie['release_year'], movie['average_rating'], movie['plot_summary'], movie['language'], movie['country']])\n",
        "\n",
        "    print(\"Here are some movies you might like:\")\n",
        "    print(tabulate(table_data, headers=[\"#\", \"Title\", \"Release Year\", \"Average Rating\", \"Plot Summary\", \"Language\", \"Country\"], tablefmt=\"grid\"))\n",
        "\n",
        "    movie_choice = None\n",
        "    while movie_choice not in range(1, len(movies) + 1):\n",
        "        try:\n",
        "            movie_choice = int(input(f\"Choose a movie to watch (1-{len(movies)}): \"))\n",
        "        except ValueError:\n",
        "            print(f\"Invalid input. Please enter a number between 1 and {len(movies)}.\")\n",
        "\n",
        "    chosen_movie = movies[movie_choice - 1]\n",
        "    print(f\"You chose to watch: {chosen_movie['title']}\")\n",
        "    return chosen_movie"
      ],
      "metadata": {
        "id": "MzZBrjMM60Zt"
      },
      "execution_count": 99,
      "outputs": []
    },
    {
      "cell_type": "code",
      "source": [
        "# User profile\n",
        "user_profile = {\n",
        "    \"preferred_genre\": None,\n",
        "    \"liked_movies\": {},\n",
        "    \"disliked_movies\": []\n",
        "}\n",
        "\n",
        "def get_recommendations(user_id, preferred_genre=None, num_recommendations=5):\n",
        "    user_ratings = []\n",
        "    if preferred_genre:\n",
        "        movie_ids = movies_dd[movies_dd['genres'] == preferred_genre]['movie_id'].compute().tolist()\n",
        "    else:\n",
        "        movie_ids = movies_dd['movie_id'].compute().tolist()\n",
        "\n",
        "    # Exclude disliked movies and liked movies\n",
        "    excluded_movies = set(user_profile[\"disliked_movies\"])\n",
        "    for liked_movies in user_profile[\"liked_movies\"].values():\n",
        "        excluded_movies.update(movies_dd[movies_dd['title'].isin(liked_movies)]['movie_id'].compute().tolist())\n",
        "    movie_ids = [iid for iid in movie_ids if iid not in excluded_movies]\n",
        "\n",
        "    for iid in movie_ids:\n",
        "        pred = algo.predict(user_id, iid)\n",
        "        user_ratings.append((iid, pred.est))\n",
        "\n",
        "    # Sort by predicted rating in descending order\n",
        "    user_ratings.sort(key=lambda x: x[1], reverse=True)\n",
        "\n",
        "    # Get top N recommendations\n",
        "    recommended_ids = [iid for iid, _ in user_ratings[:num_recommendations]]\n",
        "    recommended_movies = movies_dd[movies_dd['movie_id'].isin(recommended_ids)].compute()\n",
        "\n",
        "    # Convert to list of dictionaries\n",
        "    recommendations = []\n",
        "    for _, movie in recommended_movies.iterrows():\n",
        "        recommendations.append({\n",
        "            'movie_id': movie['movie_id'],\n",
        "            'title': movie['title'],\n",
        "            'release_year': movie['release_year'],\n",
        "            'average_rating': movie['average_rating'],\n",
        "            'director': movie['director'],\n",
        "            'actors': movie['actors'],\n",
        "            'plot_summary': movie['plot_summary'],\n",
        "            'language': movie['language'],\n",
        "            'country': movie['country']\n",
        "        })\n",
        "    return recommendations"
      ],
      "metadata": {
        "id": "n8w143U0NiXB"
      },
      "execution_count": 100,
      "outputs": []
    },
    {
      "cell_type": "code",
      "source": [
        "\n",
        "def recommend_movies():\n",
        "    global user_profile\n",
        "    current_recommendations = None\n",
        "\n",
        "    if user_profile[\"preferred_genre\"] is None:\n",
        "        print(\"Available genres:\")\n",
        "        display_genres()\n",
        "        user_profile[\"preferred_genre\"] = input(\"Enter your preferred genre: \")\n",
        "\n",
        "    preferred_genre = user_profile[\"preferred_genre\"]\n",
        "    genre_movies = movies_dd[movies_dd['genres'] == preferred_genre].compute()\n",
        "    if genre_movies.empty:\n",
        "        print(\"No movies found in this genre.\")\n",
        "        return\n",
        "\n",
        "    while True:\n",
        "        if current_recommendations is None:\n",
        "            if preferred_genre in user_profile[\"liked_movies\"] and len(user_profile[\"liked_movies\"][preferred_genre]) > 1:\n",
        "                print(f\"Based on your interest in {preferred_genre} movies like {user_profile['liked_movies'][preferred_genre]}, we recommend:\")\n",
        "                current_recommendations = get_recommendations(user_id, preferred_genre)\n",
        "                if not current_recommendations:\n",
        "                    print(\"No recommendations found.\")\n",
        "                    break\n",
        "            else:\n",
        "                current_recommendations = genre_movies.sample(3).to_dict(orient='records')\n",
        "\n",
        "        chosen_movie = choose_movie_to_watch(current_recommendations)\n",
        "        rate_movie(chosen_movie)\n",
        "\n",
        "        # Remove the chosen movie from the current recommendations\n",
        "        current_recommendations = [movie for movie in current_recommendations if movie['movie_id'] != chosen_movie['movie_id']]\n",
        "\n",
        "        if not current_recommendations or input(\"Do you want to choose another movie from the current recommendations? (yes/no): \").lower() != \"yes\":\n",
        "            break\n",
        "\n",
        "    if input(\"Do you want more recommendations? (yes/no): \").lower() == \"yes\":\n",
        "        if input(\"Do you want to change genre? (yes/no): \").lower() == \"yes\":\n",
        "            print(\"Available genres:\")\n",
        "            display_genres()\n",
        "            user_profile[\"preferred_genre\"] = input(\"Enter your new preferred genre: \")\n",
        "        recommend_movies()\n",
        "\n",
        "recommend_movies()\n"
      ],
      "metadata": {
        "id": "ZKSN3vFKNXcp",
        "colab": {
          "base_uri": "https://localhost:8080/",
          "height": 1000
        },
        "outputId": "a3357771-c71a-48cb-c527-d4566fdc23e1"
      },
      "execution_count": 101,
      "outputs": [
        {
          "output_type": "stream",
          "name": "stdout",
          "text": [
            "Available genres:\n",
            "+-----+----------+\n",
            "|   # | Genre    |\n",
            "+=====+==========+\n",
            "|   1 | Action   |\n",
            "+-----+----------+\n",
            "|   2 | Comedy   |\n",
            "+-----+----------+\n",
            "|   3 | Drama    |\n",
            "+-----+----------+\n",
            "|   4 | Fantasy  |\n",
            "+-----+----------+\n",
            "|   5 | Horror   |\n",
            "+-----+----------+\n",
            "|   6 | Romance  |\n",
            "+-----+----------+\n",
            "|   7 | Sci-Fi   |\n",
            "+-----+----------+\n",
            "|   8 | Thriller |\n",
            "+-----+----------+\n",
            "Enter your preferred genre: Action\n",
            "Here are some movies you might like:\n",
            "+-----+------------------+----------------+------------------+------------------------------------------------------------------------------------------------------------------------------------------------+-----------------+-----------------------------------------------------+\n",
            "|   # | Title            |   Release Year |   Average Rating | Plot Summary                                                                                                                                   | Language        | Country                                             |\n",
            "+=====+==================+================+==================+================================================================================================================================================+=================+=====================================================+\n",
            "|   1 | Bad will vote    |           2022 |              8.1 | Past very let address. Take listen store deep.                                                                                                 | Kirghiz         | British Indian Ocean Territory (Chagos Archipelago) |\n",
            "|     |                  |                |                  | High how ahead live management benefit. Word side vote if resource. Any above there box.                                                       |                 |                                                     |\n",
            "+-----+------------------+----------------+------------------+------------------------------------------------------------------------------------------------------------------------------------------------+-----------------+-----------------------------------------------------+\n",
            "|   2 | Government put   |           1964 |              1.3 | International example matter great yard black between these. Enjoy wait security want scientist recent. Picture ground reveal huge.            | Kikuyu          | Sri Lanka                                           |\n",
            "|     |                  |                |                  | Strong mention room indeed approach wind.                                                                                                      |                 |                                                     |\n",
            "+-----+------------------+----------------+------------------+------------------------------------------------------------------------------------------------------------------------------------------------+-----------------+-----------------------------------------------------+\n",
            "|   3 | Get clearly hour |           1978 |              9.4 | Rich four staff factor. This indeed glass since worker girl. Then author reflect staff. Somebody difference seven mouth expert beyond already. | Sotho, Southern | Singapore                                           |\n",
            "|     |                  |                |                  | Occur peace leg candidate. Open these stock.                                                                                                   |                 |                                                     |\n",
            "+-----+------------------+----------------+------------------+------------------------------------------------------------------------------------------------------------------------------------------------+-----------------+-----------------------------------------------------+\n",
            "Choose a movie to watch (1-3): 3\n",
            "You chose to watch: Get clearly hour\n",
            "Rate the movie 'Get clearly hour' (1-10): 10\n",
            "Your preferences have been updated.\n",
            "+-------------------+--------------------------+\n",
            "| Preferred Genre   | Liked Movies             |\n",
            "+===================+==========================+\n",
            "| Action            | Action: Get clearly hour |\n",
            "+-------------------+--------------------------+\n",
            "Model retrained successfully.\n"
          ]
        },
        {
          "output_type": "error",
          "ename": "KeyboardInterrupt",
          "evalue": "Interrupted by user",
          "traceback": [
            "\u001b[0;31m---------------------------------------------------------------------------\u001b[0m",
            "\u001b[0;31mKeyboardInterrupt\u001b[0m                         Traceback (most recent call last)",
            "\u001b[0;32m<ipython-input-101-b9da48b0a414>\u001b[0m in \u001b[0;36m<cell line: 43>\u001b[0;34m()\u001b[0m\n\u001b[1;32m     41\u001b[0m         \u001b[0mrecommend_movies\u001b[0m\u001b[0;34m(\u001b[0m\u001b[0;34m)\u001b[0m\u001b[0;34m\u001b[0m\u001b[0;34m\u001b[0m\u001b[0m\n\u001b[1;32m     42\u001b[0m \u001b[0;34m\u001b[0m\u001b[0m\n\u001b[0;32m---> 43\u001b[0;31m \u001b[0mrecommend_movies\u001b[0m\u001b[0;34m(\u001b[0m\u001b[0;34m)\u001b[0m\u001b[0;34m\u001b[0m\u001b[0;34m\u001b[0m\u001b[0m\n\u001b[0m",
            "\u001b[0;32m<ipython-input-101-b9da48b0a414>\u001b[0m in \u001b[0;36mrecommend_movies\u001b[0;34m()\u001b[0m\n\u001b[1;32m     31\u001b[0m         \u001b[0mcurrent_recommendations\u001b[0m \u001b[0;34m=\u001b[0m \u001b[0;34m[\u001b[0m\u001b[0mmovie\u001b[0m \u001b[0;32mfor\u001b[0m \u001b[0mmovie\u001b[0m \u001b[0;32min\u001b[0m \u001b[0mcurrent_recommendations\u001b[0m \u001b[0;32mif\u001b[0m \u001b[0mmovie\u001b[0m\u001b[0;34m[\u001b[0m\u001b[0;34m'movie_id'\u001b[0m\u001b[0;34m]\u001b[0m \u001b[0;34m!=\u001b[0m \u001b[0mchosen_movie\u001b[0m\u001b[0;34m[\u001b[0m\u001b[0;34m'movie_id'\u001b[0m\u001b[0;34m]\u001b[0m\u001b[0;34m]\u001b[0m\u001b[0;34m\u001b[0m\u001b[0;34m\u001b[0m\u001b[0m\n\u001b[1;32m     32\u001b[0m \u001b[0;34m\u001b[0m\u001b[0m\n\u001b[0;32m---> 33\u001b[0;31m         \u001b[0;32mif\u001b[0m \u001b[0;32mnot\u001b[0m \u001b[0mcurrent_recommendations\u001b[0m \u001b[0;32mor\u001b[0m \u001b[0minput\u001b[0m\u001b[0;34m(\u001b[0m\u001b[0;34m\"Do you want to choose another movie from the current recommendations? (yes/no): \"\u001b[0m\u001b[0;34m)\u001b[0m\u001b[0;34m.\u001b[0m\u001b[0mlower\u001b[0m\u001b[0;34m(\u001b[0m\u001b[0;34m)\u001b[0m \u001b[0;34m!=\u001b[0m \u001b[0;34m\"yes\"\u001b[0m\u001b[0;34m:\u001b[0m\u001b[0;34m\u001b[0m\u001b[0;34m\u001b[0m\u001b[0m\n\u001b[0m\u001b[1;32m     34\u001b[0m             \u001b[0;32mbreak\u001b[0m\u001b[0;34m\u001b[0m\u001b[0;34m\u001b[0m\u001b[0m\n\u001b[1;32m     35\u001b[0m \u001b[0;34m\u001b[0m\u001b[0m\n",
            "\u001b[0;32m/usr/local/lib/python3.10/dist-packages/ipykernel/kernelbase.py\u001b[0m in \u001b[0;36mraw_input\u001b[0;34m(self, prompt)\u001b[0m\n\u001b[1;32m    849\u001b[0m                 \u001b[0;34m\"raw_input was called, but this frontend does not support input requests.\"\u001b[0m\u001b[0;34m\u001b[0m\u001b[0;34m\u001b[0m\u001b[0m\n\u001b[1;32m    850\u001b[0m             )\n\u001b[0;32m--> 851\u001b[0;31m         return self._input_request(str(prompt),\n\u001b[0m\u001b[1;32m    852\u001b[0m             \u001b[0mself\u001b[0m\u001b[0;34m.\u001b[0m\u001b[0m_parent_ident\u001b[0m\u001b[0;34m,\u001b[0m\u001b[0;34m\u001b[0m\u001b[0;34m\u001b[0m\u001b[0m\n\u001b[1;32m    853\u001b[0m             \u001b[0mself\u001b[0m\u001b[0;34m.\u001b[0m\u001b[0m_parent_header\u001b[0m\u001b[0;34m,\u001b[0m\u001b[0;34m\u001b[0m\u001b[0;34m\u001b[0m\u001b[0m\n",
            "\u001b[0;32m/usr/local/lib/python3.10/dist-packages/ipykernel/kernelbase.py\u001b[0m in \u001b[0;36m_input_request\u001b[0;34m(self, prompt, ident, parent, password)\u001b[0m\n\u001b[1;32m    893\u001b[0m             \u001b[0;32mexcept\u001b[0m \u001b[0mKeyboardInterrupt\u001b[0m\u001b[0;34m:\u001b[0m\u001b[0;34m\u001b[0m\u001b[0;34m\u001b[0m\u001b[0m\n\u001b[1;32m    894\u001b[0m                 \u001b[0;31m# re-raise KeyboardInterrupt, to truncate traceback\u001b[0m\u001b[0;34m\u001b[0m\u001b[0;34m\u001b[0m\u001b[0m\n\u001b[0;32m--> 895\u001b[0;31m                 \u001b[0;32mraise\u001b[0m \u001b[0mKeyboardInterrupt\u001b[0m\u001b[0;34m(\u001b[0m\u001b[0;34m\"Interrupted by user\"\u001b[0m\u001b[0;34m)\u001b[0m \u001b[0;32mfrom\u001b[0m \u001b[0;32mNone\u001b[0m\u001b[0;34m\u001b[0m\u001b[0;34m\u001b[0m\u001b[0m\n\u001b[0m\u001b[1;32m    896\u001b[0m             \u001b[0;32mexcept\u001b[0m \u001b[0mException\u001b[0m \u001b[0;32mas\u001b[0m \u001b[0me\u001b[0m\u001b[0;34m:\u001b[0m\u001b[0;34m\u001b[0m\u001b[0;34m\u001b[0m\u001b[0m\n\u001b[1;32m    897\u001b[0m                 \u001b[0mself\u001b[0m\u001b[0;34m.\u001b[0m\u001b[0mlog\u001b[0m\u001b[0;34m.\u001b[0m\u001b[0mwarning\u001b[0m\u001b[0;34m(\u001b[0m\u001b[0;34m\"Invalid Message:\"\u001b[0m\u001b[0;34m,\u001b[0m \u001b[0mexc_info\u001b[0m\u001b[0;34m=\u001b[0m\u001b[0;32mTrue\u001b[0m\u001b[0;34m)\u001b[0m\u001b[0;34m\u001b[0m\u001b[0;34m\u001b[0m\u001b[0m\n",
            "\u001b[0;31mKeyboardInterrupt\u001b[0m: Interrupted by user"
          ]
        }
      ]
    },
    {
      "cell_type": "markdown",
      "source": [],
      "metadata": {
        "id": "W6A3QBv7uZj1"
      }
    }
  ]
}